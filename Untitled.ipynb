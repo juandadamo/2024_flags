{
 "cells": [
  {
   "cell_type": "code",
   "execution_count": 1,
   "id": "9c323900-a89c-425d-b9ac-089ca49bf5e0",
   "metadata": {},
   "outputs": [
    {
     "data": {
      "text/plain": [
       "0.1382488479262673"
      ]
     },
     "execution_count": 1,
     "metadata": {},
     "output_type": "execute_result"
    }
   ],
   "source": [
    "15/108.5"
   ]
  },
  {
   "cell_type": "code",
   "execution_count": 2,
   "id": "2580b0da-fd19-47a2-8b40-a3e74bd8d2a5",
   "metadata": {},
   "outputs": [
    {
     "data": {
      "text/plain": [
       "0.1402524544179523"
      ]
     },
     "execution_count": 2,
     "metadata": {},
     "output_type": "execute_result"
    }
   ],
   "source": [
    "28/199.64\n"
   ]
  },
  {
   "cell_type": "code",
   "execution_count": null,
   "id": "4163067e-c01b-4b7f-876f-30368c82c42a",
   "metadata": {},
   "outputs": [],
   "source": []
  }
 ],
 "metadata": {
  "kernelspec": {
   "display_name": "Python 3 (ipykernel)",
   "language": "python",
   "name": "python3"
  },
  "language_info": {
   "codemirror_mode": {
    "name": "ipython",
    "version": 3
   },
   "file_extension": ".py",
   "mimetype": "text/x-python",
   "name": "python",
   "nbconvert_exporter": "python",
   "pygments_lexer": "ipython3",
   "version": "3.10.9"
  }
 },
 "nbformat": 4,
 "nbformat_minor": 5
}
